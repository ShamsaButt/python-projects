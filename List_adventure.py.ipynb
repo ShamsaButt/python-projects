{
 "cells": [
  {
   "cell_type": "markdown",
   "id": "0e25491f-c5ce-4d4f-bada-309f9851c854",
   "metadata": {},
   "source": [
    "###  Movie Night Organizer"
   ]
  },
  {
   "cell_type": "code",
   "execution_count": 18,
   "id": "07e957e5-3bcb-4dda-89c4-a6dec82401e0",
   "metadata": {},
   "outputs": [
    {
     "name": "stdout",
     "output_type": "stream",
     "text": [
      "\n",
      " 1. Add movie : \n",
      "2. Sort movies : \n",
      "3. Remove movie : \n",
      "4. Replace movie : \n",
      "5. Random movie picker : \n",
      "6. Show all movies in uppercase : \n",
      "7. Exit \n"
     ]
    },
    {
     "name": "stdin",
     "output_type": "stream",
     "text": [
      "Enter any choice :  7\n"
     ]
    },
    {
     "name": "stdout",
     "output_type": "stream",
     "text": [
      "Goodbye\n"
     ]
    }
   ],
   "source": [
    "import random\n",
    "def movie_organizer():\n",
    "    \"\"\"\n",
    "Movie Night Organizer 🎬\n",
    "\n",
    "This is a simple text-based Python application that helps users manage their favorite movies across three categories: Action, Comedy, and Drama. Users can add, remove, or replace movies, sort them alphabetically, pick a random movie for the night, and view all titles in uppercase. The program utilizes lists, nested lists, conditionals, loops, and list comprehensions, along with the `random` module to enhance interactivity and functionality.\n",
    "\"\"\"\n",
    "    movies = [['Action'],['Comedy'],['Drama']]\n",
    "    while True:\n",
    "        print('\\n 1. Add movie : ')\n",
    "        print('2. Sort movies : ')\n",
    "        print('3. Remove movie : ')\n",
    "        print('4. Replace movie : ')\n",
    "        print('5. Random movie picker : ')\n",
    "        print('6. Show all movies in uppercase : ')\n",
    "        print('7. Exit ')\n",
    "        \n",
    "        choice = input('Enter any choice : ')\n",
    "\n",
    "        if choice == '1':\n",
    "            print('Choose category: 1_Action, 2_Comedy, 3_Drama ')\n",
    "            category = int(input('Enter category number : '))\n",
    "            if 0 < category <len(movies)+1:\n",
    "                movie = input('Enter movie name : ')\n",
    "                movies[category - 1].append(movie)\n",
    "                print('Movie Added')\n",
    "            else:\n",
    "                print('Invalid Choice')\n",
    "        elif choice == '2':\n",
    "            for cat in movies:\n",
    "                cat[1:]=sorted(cat[1:])\n",
    "            print('Sorted Movies : ' , movies) \n",
    "        elif choice == '3':\n",
    "            movie = input('Enter movie you want to remove : ')\n",
    "            found = False\n",
    "            for cat in movies:\n",
    "                if movie in cat:\n",
    "                    cat.remove(movie)\n",
    "                    print('Movie removed')\n",
    "                    found = True\n",
    "                    break\n",
    "            if not found:\n",
    "             print('Movie not found')\n",
    "        elif choice == '4':\n",
    "            old_movie = input('Enter movie you want to replace : ')\n",
    "            found = False\n",
    "            for cat in movies:\n",
    "                if old_movie in cat:\n",
    "                    new_movie = input('Enter new movie : ')\n",
    "                    index = cat.index(old_movie)\n",
    "                    cat[index] = new_movie\n",
    "                    print('Movie replaced')\n",
    "                    found = True\n",
    "                    break\n",
    "            if not found:\n",
    "                print('Movie not found')\n",
    "        elif choice == '5':\n",
    "            all_movies = [movie for category in movies for movie in category[1:]]\n",
    "            if all_movies:\n",
    "                print('Tonight\\'s movie is : ' , random.choice(all_movies))\n",
    "            else:\n",
    "                print('No movie in list')\n",
    "        elif choice == '6':\n",
    "            upper_movies = [[m.upper() if i!=0 else m for i,m in enumerate(category)]for category in movies]\n",
    "            print('Movies in uppercase: ', upper_movies)\n",
    "        elif choice == '7':\n",
    "            print('Goodbye')\n",
    "            break\n",
    "        \n",
    "        else:\n",
    "            print('Invalid option.Try again')\n",
    "\n",
    "movie_organizer()\n",
    "        "
   ]
  },
  {
   "cell_type": "code",
   "execution_count": 20,
   "id": "24641f8f-c25b-4c77-9031-9a01ce4c5d6d",
   "metadata": {},
   "outputs": [
    {
     "data": {
      "text/plain": [
       "'\\nMovie Night Organizer 🎬\\n\\nThis is a simple text-based Python application that helps users manage their favorite movies across three categories: Action, Comedy, and Drama. Users can add, remove, or replace movies, sort them alphabetically, pick a random movie for the night, and view all titles in uppercase. The program utilizes lists, nested lists, conditionals, loops, and list comprehensions, along with the `random` module to enhance interactivity and functionality.\\n'"
      ]
     },
     "execution_count": 20,
     "metadata": {},
     "output_type": "execute_result"
    }
   ],
   "source": [
    "movie_organizer.__doc__"
   ]
  },
  {
   "cell_type": "code",
   "execution_count": null,
   "id": "e1faaf22-820f-4d3b-8b79-e9d091dc29c3",
   "metadata": {},
   "outputs": [],
   "source": []
  }
 ],
 "metadata": {
  "kernelspec": {
   "display_name": "Python [conda env:base] *",
   "language": "python",
   "name": "conda-base-py"
  },
  "language_info": {
   "codemirror_mode": {
    "name": "ipython",
    "version": 3
   },
   "file_extension": ".py",
   "mimetype": "text/x-python",
   "name": "python",
   "nbconvert_exporter": "python",
   "pygments_lexer": "ipython3",
   "version": "3.12.7"
  }
 },
 "nbformat": 4,
 "nbformat_minor": 5
}
